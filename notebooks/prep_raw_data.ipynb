{
 "cells": [
  {
   "cell_type": "markdown",
   "metadata": {},
   "source": [
    "# Prepare Data\n",
    "In this notebook we will load our raw images and slice them up into smaller images to build our dataset."
   ]
  },
  {
   "cell_type": "code",
   "execution_count": 3,
   "metadata": {},
   "outputs": [],
   "source": [
    "import os\n",
    "import numpy as np\n",
    "from PIL import Image\n",
    "from typing import List, Dict\n",
    "import glob\n",
    "import image_slicer"
   ]
  },
  {
   "cell_type": "markdown",
   "metadata": {},
   "source": [
    "### helper functions"
   ]
  },
  {
   "cell_type": "code",
   "execution_count": 22,
   "metadata": {},
   "outputs": [],
   "source": [
    "def jpg_filter(file_list: List[str]) -> List[str]: \n",
    "    '''\n",
    "    Helper to get only strings with `*.jpg`\n",
    "    '''\n",
    "    return [str for str in file_list if\n",
    "             any(\"jpg\" in str for sub in file_list)] "
   ]
  },
  {
   "cell_type": "code",
   "execution_count": 24,
   "metadata": {},
   "outputs": [],
   "source": [
    "def get_image_file_name_list(path:str) -> List[str]:\n",
    "    '''\n",
    "    Helper function to get list of image file names.\n",
    "    '''\n",
    "    _file_list = [os.path.basename(x) for x in glob.glob(f'{path}')]\n",
    "    \n",
    "    # Filter only .jpg files, just incase there are other files or folders\n",
    "    \n",
    "    _file_list = jpg_filter(_file_list)\n",
    "    \n",
    "    return _file_list"
   ]
  },
  {
   "cell_type": "markdown",
   "metadata": {},
   "source": [
    "### slice up each cellphone image"
   ]
  },
  {
   "cell_type": "code",
   "execution_count": 41,
   "metadata": {},
   "outputs": [],
   "source": [
    "def slice_raw_images(label_name: str, base_path: str, num_slices: int = 100) -> None:\n",
    "    \n",
    "    '''\n",
    "    Quick helper function to slice folder of large images from mobile phone into smaller images\n",
    "    to build classification datasets and saved in `*/sliced_images` folder!\n",
    "    \n",
    "    Args:\n",
    "        ``base_path``: path to `raw_image`\n",
    "        ``label``: string to append to new images\n",
    "        ``num_slices``: number of smaller images to cut the raw_image into, must be even.\n",
    "    \n",
    "    '''\n",
    "    \n",
    "    def _slice_raw_images(raw_image:str) -> None:\n",
    "        nonlocal base_path, label_name, num_slices\n",
    "    \n",
    "        # num_slice must be even\n",
    "        assert num_slices % 2 == 0 \n",
    "\n",
    "        tiles = image_slicer.slice(f\"{base_path}/{raw_image}\", num_slices, save=False)\n",
    "        image_slicer.save_tiles(tiles,\n",
    "                                directory=f\"{base_path}/sliced_images\",\n",
    "                                prefix=f'{label_name}_{raw_image[-10:-4]}_slice') # might want to enforce a file type later\n",
    "\n",
    "\n",
    "        print(f\"Image-{raw_image[-10:-4]} Done!\")\n",
    "\n",
    "    # Get list of potential images to slice\n",
    "    raw_image_list = get_image_file_name_list(path=f'{base_path}/**')\n",
    "    \n",
    "    # print(raw_image_list)\n",
    "    \n",
    "    for img in raw_image_list:\n",
    "        try:\n",
    "            _slice_raw_images(raw_image=img)\n",
    "        except Exception as e:\n",
    "            print(e)\n",
    "            continue # May want to add specific excpection later"
   ]
  },
  {
   "cell_type": "markdown",
   "metadata": {},
   "source": [
    "# Slice each pasta types raw images"
   ]
  },
  {
   "cell_type": "code",
   "execution_count": 38,
   "metadata": {},
   "outputs": [
    {
     "name": "stdout",
     "output_type": "stream",
     "text": [
      "['IMG_20200308_172039.jpg', 'IMG_20200308_172029.jpg', 'IMG_20200308_172031.jpg', 'IMG_20200308_172109.jpg', 'IMG_20200308_172123.jpg', 'IMG_20200308_172037.jpg']\n",
      "Image-172039 Done!\n",
      "Image-172029 Done!\n",
      "Image-172031 Done!\n",
      "Image-172109 Done!\n",
      "Image-172123 Done!\n",
      "Image-172037 Done!\n"
     ]
    }
   ],
   "source": [
    "slice_raw_images(label_name='orzo', base_path='/project/data/raw/orzo', num_slices=100)"
   ]
  },
  {
   "cell_type": "code",
   "execution_count": 42,
   "metadata": {},
   "outputs": [
    {
     "name": "stdout",
     "output_type": "stream",
     "text": [
      "Image-170023 Done!\n",
      "Image-165635 Done!\n",
      "Image-170037 Done!\n",
      "Image-170009 Done!\n",
      "Image-165629 Done!\n",
      "Image-165705 Done!\n",
      "Image-170053 Done!\n",
      "Image-170055 Done!\n",
      "Image-165622 Done!\n",
      "Image-170015 Done!\n",
      "Image-170007 Done!\n",
      "Image-165656 Done!\n",
      "Image-165708 Done!\n",
      "Image-170018 Done!\n",
      "Image-170010 Done!\n",
      "Image-170030 Done!\n",
      "Image-165631 Done!\n",
      "Image-165717 Done!\n",
      "Image-170020 Done!\n",
      "Image-170033 Done!\n",
      "Image-165701 Done!\n"
     ]
    }
   ],
   "source": [
    "slice_raw_images(label_name='penne', base_path='/project/data/raw/penne', num_slices=100)"
   ]
  },
  {
   "cell_type": "code",
   "execution_count": 43,
   "metadata": {},
   "outputs": [
    {
     "name": "stdout",
     "output_type": "stream",
     "text": [
      "Image-170810 Done!\n",
      "Image-170811 Done!\n",
      "Image-171401 Done!\n",
      "Image-170833 Done!\n",
      "Image-171406 Done!\n",
      "Image-170819 Done!\n",
      "Image-170824 Done!\n",
      "Image-170823 Done!\n",
      "Image-171359 Done!\n",
      "Image-170826 Done!\n",
      "Image-171404 Done!\n",
      "Image--Copy1 Done!\n",
      "Image-170830 Done!\n"
     ]
    }
   ],
   "source": [
    "slice_raw_images(label_name='farfalle', base_path='/project/data/raw/farfalle', num_slices=100)"
   ]
  },
  {
   "cell_type": "markdown",
   "metadata": {},
   "source": [
    "# --- End ---"
   ]
  }
 ],
 "metadata": {
  "kernelspec": {
   "display_name": "Python 3",
   "language": "python",
   "name": "python3"
  },
  "language_info": {
   "codemirror_mode": {
    "name": "ipython",
    "version": 3
   },
   "file_extension": ".py",
   "mimetype": "text/x-python",
   "name": "python",
   "nbconvert_exporter": "python",
   "pygments_lexer": "ipython3",
   "version": "3.6.9"
  }
 },
 "nbformat": 4,
 "nbformat_minor": 4
}
