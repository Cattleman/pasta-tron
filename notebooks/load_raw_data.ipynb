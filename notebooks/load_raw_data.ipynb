{
 "cells": [
  {
   "cell_type": "code",
   "execution_count": 2,
   "metadata": {},
   "outputs": [],
   "source": [
    "import numpy as np"
   ]
  },
  {
   "cell_type": "code",
   "execution_count": 5,
   "metadata": {},
   "outputs": [
    {
     "data": {
      "text/plain": [
       "'2.1.0'"
      ]
     },
     "execution_count": 5,
     "metadata": {},
     "output_type": "execute_result"
    }
   ],
   "source": [
    "tf.__version__"
   ]
  },
  {
   "cell_type": "code",
   "execution_count": 3,
   "metadata": {},
   "outputs": [
    {
     "ename": "AttributeError",
     "evalue": "module 'tensorflow' has no attribute 'Session'",
     "output_type": "error",
     "traceback": [
      "\u001b[0;31m---------------------------------------------------------------------------\u001b[0m",
      "\u001b[0;31mAttributeError\u001b[0m                            Traceback (most recent call last)",
      "\u001b[0;32m<ipython-input-3-784982b76893>\u001b[0m in \u001b[0;36m<module>\u001b[0;34m\u001b[0m\n\u001b[1;32m      2\u001b[0m \u001b[0;34m\u001b[0m\u001b[0m\n\u001b[1;32m      3\u001b[0m \u001b[0mhello\u001b[0m \u001b[0;34m=\u001b[0m \u001b[0mtf\u001b[0m\u001b[0;34m.\u001b[0m\u001b[0mconstant\u001b[0m\u001b[0;34m(\u001b[0m\u001b[0;34m'Hello, TensorFlow!'\u001b[0m\u001b[0;34m)\u001b[0m\u001b[0;34m\u001b[0m\u001b[0;34m\u001b[0m\u001b[0m\n\u001b[0;32m----> 4\u001b[0;31m \u001b[0msess\u001b[0m \u001b[0;34m=\u001b[0m \u001b[0mtf\u001b[0m\u001b[0;34m.\u001b[0m\u001b[0mSession\u001b[0m\u001b[0;34m(\u001b[0m\u001b[0;34m)\u001b[0m\u001b[0;34m\u001b[0m\u001b[0;34m\u001b[0m\u001b[0m\n\u001b[0m\u001b[1;32m      5\u001b[0m \u001b[0;34m\u001b[0m\u001b[0m\n\u001b[1;32m      6\u001b[0m \u001b[0mprint\u001b[0m\u001b[0;34m(\u001b[0m\u001b[0msess\u001b[0m\u001b[0;34m.\u001b[0m\u001b[0mrun\u001b[0m\u001b[0;34m(\u001b[0m\u001b[0mhello\u001b[0m\u001b[0;34m)\u001b[0m\u001b[0;34m)\u001b[0m\u001b[0;34m\u001b[0m\u001b[0;34m\u001b[0m\u001b[0m\n",
      "\u001b[0;31mAttributeError\u001b[0m: module 'tensorflow' has no attribute 'Session'"
     ]
    }
   ],
   "source": [
    "import tensorflow as tf\n",
    "\n",
    "hello = tf.constant('Hello, TensorFlow!')\n",
    "sess = tf.Session()\n",
    "\n",
    "print(sess.run(hello))"
   ]
  },
  {
   "cell_type": "code",
   "execution_count": 6,
   "metadata": {
    "collapsed": true
   },
   "outputs": [
    {
     "name": "stdout",
     "output_type": "stream",
     "text": [
      "absl-py==0.9.0\r\n",
      "asn1crypto==0.24.0\r\n",
      "astor==0.8.1\r\n",
      "attrs==19.3.0\r\n",
      "backcall==0.1.0\r\n",
      "bleach==3.1.0\r\n",
      "cachetools==4.0.0\r\n",
      "certifi==2019.11.28\r\n",
      "chardet==3.0.4\r\n",
      "cryptography==2.1.4\r\n",
      "cycler==0.10.0\r\n",
      "decorator==4.4.1\r\n",
      "defusedxml==0.6.0\r\n",
      "entrypoints==0.3\r\n",
      "enum34==1.1.6\r\n",
      "gast==0.2.2\r\n",
      "google-auth==1.10.0\r\n",
      "google-auth-oauthlib==0.4.1\r\n",
      "google-pasta==0.1.8\r\n",
      "grpcio==1.26.0\r\n",
      "h5py==2.10.0\r\n",
      "idna==2.6\r\n",
      "importlib-metadata==1.4.0\r\n",
      "ipykernel==5.1.3\r\n",
      "ipython==7.11.1\r\n",
      "ipython-genutils==0.2.0\r\n",
      "ipywidgets==7.5.1\r\n",
      "jedi==0.15.2\r\n",
      "Jinja2==2.10.3\r\n",
      "jsonschema==3.2.0\r\n",
      "jupyter==1.0.0\r\n",
      "jupyter-client==5.3.4\r\n",
      "jupyter-console==6.0.0\r\n",
      "jupyter-core==4.6.1\r\n",
      "jupyter-http-over-ws==0.0.7\r\n",
      "Keras-Applications==1.0.8\r\n",
      "Keras-Preprocessing==1.1.0\r\n",
      "keyring==10.6.0\r\n",
      "keyrings.alt==3.0\r\n",
      "kiwisolver==1.1.0\r\n",
      "Markdown==3.1.1\r\n",
      "MarkupSafe==1.1.1\r\n",
      "matplotlib==3.1.2\r\n",
      "mistune==0.8.4\r\n",
      "more-itertools==8.0.2\r\n",
      "nbconvert==5.6.1\r\n",
      "nbformat==5.0.3\r\n",
      "notebook==6.0.2\r\n",
      "numpy==1.18.1\r\n",
      "oauthlib==3.1.0\r\n",
      "opt-einsum==3.1.0\r\n",
      "pandocfilters==1.4.2\r\n",
      "parso==0.5.2\r\n",
      "pexpect==4.7.0\r\n",
      "pickleshare==0.7.5\r\n",
      "prometheus-client==0.7.1\r\n",
      "prompt-toolkit==2.0.10\r\n",
      "protobuf==3.11.2\r\n",
      "ptyprocess==0.6.0\r\n",
      "pyasn1==0.4.8\r\n",
      "pyasn1-modules==0.2.8\r\n",
      "pycrypto==2.6.1\r\n",
      "Pygments==2.5.2\r\n",
      "pygobject==3.26.1\r\n",
      "pyparsing==2.4.6\r\n",
      "pyrsistent==0.15.7\r\n",
      "python-dateutil==2.8.1\r\n",
      "pyxdg==0.25\r\n",
      "pyzmq==18.1.1\r\n",
      "qtconsole==4.6.0\r\n",
      "requests==2.22.0\r\n",
      "requests-oauthlib==1.3.0\r\n",
      "rsa==4.0\r\n",
      "scipy==1.4.1\r\n",
      "SecretStorage==2.3.1\r\n",
      "Send2Trash==1.5.0\r\n",
      "six==1.13.0\r\n",
      "tensorboard==2.1.0\r\n",
      "tensorflow==2.1.0\r\n",
      "tensorflow-estimator==2.1.0\r\n",
      "termcolor==1.1.0\r\n",
      "terminado==0.8.3\r\n",
      "testpath==0.4.4\r\n",
      "tornado==6.0.3\r\n",
      "traitlets==4.3.3\r\n",
      "urllib3==1.25.7\r\n",
      "wcwidth==0.1.8\r\n",
      "webencodings==0.5.1\r\n",
      "Werkzeug==0.16.0\r\n",
      "widgetsnbextension==3.5.1\r\n",
      "wrapt==1.11.2\r\n",
      "zipp==0.6.0\r\n"
     ]
    }
   ],
   "source": [
    "!pip freeze"
   ]
  },
  {
   "cell_type": "code",
   "execution_count": 7,
   "metadata": {},
   "outputs": [
    {
     "name": "stdout",
     "output_type": "stream",
     "text": [
      "Collecting pillow\n",
      "\u001b[?25l  Downloading https://files.pythonhosted.org/packages/19/5e/23dcc0ce3cc2abe92efd3cd61d764bee6ccdf1b667a1fb566f45dc249953/Pillow-7.0.0-cp36-cp36m-manylinux1_x86_64.whl (2.1MB)\n",
      "\u001b[K     |████████████████████████████████| 2.1MB 1.5MB/s eta 0:00:01\n",
      "\u001b[?25hInstalling collected packages: pillow\n",
      "\u001b[31mERROR: Could not install packages due to an EnvironmentError: [Errno 13] Permission denied: '/usr/local/lib/python3.6/dist-packages/PIL'\n",
      "Consider using the `--user` option or check the permissions.\n",
      "\u001b[0m\n",
      "\u001b[33mWARNING: You are using pip version 19.3.1; however, version 20.0.2 is available.\n",
      "You should consider upgrading via the 'pip install --upgrade pip' command.\u001b[0m\n"
     ]
    }
   ],
   "source": [
    "from PIL import "
   ]
  },
  {
   "cell_type": "code",
   "execution_count": 17,
   "metadata": {},
   "outputs": [],
   "source": [
    "import os"
   ]
  },
  {
   "cell_type": "code",
   "execution_count": 23,
   "metadata": {},
   "outputs": [],
   "source": [
    "from PIL import Image\n",
    "\n",
    "def crop(path, origional_image, height, width, k, page, area):\n",
    "    im = Image.open(input)\n",
    "    imgwidth, imgheight = im.size\n",
    "    for i in range(0,imgheight,height):\n",
    "        for j in range(0,imgwidth,width):\n",
    "            box = (j, i, j+width, i+height)\n",
    "            a = im.crop(box)\n",
    "            try:\n",
    "                o = a.crop(area)\n",
    "                o.save(os.path.join(path,\"PNG\",\"%s\" % page,\"IMG-%s.png\" % k))\n",
    "            except:\n",
    "                pass\n",
    "            k +=1\n"
   ]
  },
  {
   "cell_type": "code",
   "execution_count": null,
   "metadata": {},
   "outputs": [],
   "source": []
  },
  {
   "cell_type": "code",
   "execution_count": 18,
   "metadata": {
    "scrolled": true
   },
   "outputs": [
    {
     "name": "stdout",
     "output_type": "stream",
     "text": [
      "\u001b[33mWARNING: The directory '/project/.cache/pip/http' or its parent directory is not owned by the current user and the cache has been disabled. Please check the permissions and owner of that directory. If executing pip with sudo, you may want sudo's -H flag.\u001b[0m\n",
      "\u001b[33mWARNING: The directory '/project/.cache/pip' or its parent directory is not owned by the current user and caching wheels has been disabled. check the permissions and owner of that directory. If executing pip with sudo, you may want sudo's -H flag.\u001b[0m\n",
      "Collecting image_slicer\n",
      "  Downloading https://files.pythonhosted.org/packages/d6/1e/6afd4b8c88f888fb7b909b02c102709c413d0dd1ed9047914002b87bc6b9/image_slicer-0.3.0-py3-none-any.whl\n",
      "Requirement already satisfied: Pillow>=4.0.0 in /usr/local/lib/python3.6/dist-packages (from image_slicer) (7.0.0)\n",
      "Installing collected packages: image-slicer\n",
      "Successfully installed image-slicer-0.3.0\n",
      "\u001b[33mWARNING: You are using pip version 19.3.1; however, version 20.0.2 is available.\n",
      "You should consider upgrading via the 'pip install --upgrade pip' command.\u001b[0m\n"
     ]
    }
   ],
   "source": [
    "!pip install image_slicer"
   ]
  },
  {
   "cell_type": "code",
   "execution_count": 7,
   "metadata": {},
   "outputs": [],
   "source": [
    "im = Image.open('/project/data/raw/farfalle/IMG_20200308_170810.jpg')"
   ]
  },
  {
   "cell_type": "code",
   "execution_count": 13,
   "metadata": {},
   "outputs": [
    {
     "data": {
      "text/plain": [
       "(4032, 3024)"
      ]
     },
     "execution_count": 13,
     "metadata": {},
     "output_type": "execute_result"
    }
   ],
   "source": [
    "im.size"
   ]
  },
  {
   "cell_type": "code",
   "execution_count": 14,
   "metadata": {},
   "outputs": [],
   "source": [
    "resized = im.resize((400, 300))"
   ]
  },
  {
   "cell_type": "code",
   "execution_count": 22,
   "metadata": {},
   "outputs": [
    {
     "ename": "SystemError",
     "evalue": "tile cannot extend outside image",
     "output_type": "error",
     "traceback": [
      "\u001b[0;31m---------------------------------------------------------------------------\u001b[0m",
      "\u001b[0;31mAttributeError\u001b[0m                            Traceback (most recent call last)",
      "\u001b[0;32m/usr/local/lib/python3.6/dist-packages/PIL/ImageFile.py\u001b[0m in \u001b[0;36m_save\u001b[0;34m(im, fp, tile, bufsize)\u001b[0m\n\u001b[1;32m    495\u001b[0m     \u001b[0;32mtry\u001b[0m\u001b[0;34m:\u001b[0m\u001b[0;34m\u001b[0m\u001b[0;34m\u001b[0m\u001b[0m\n\u001b[0;32m--> 496\u001b[0;31m         \u001b[0mfh\u001b[0m \u001b[0;34m=\u001b[0m \u001b[0mfp\u001b[0m\u001b[0;34m.\u001b[0m\u001b[0mfileno\u001b[0m\u001b[0;34m(\u001b[0m\u001b[0;34m)\u001b[0m\u001b[0;34m\u001b[0m\u001b[0;34m\u001b[0m\u001b[0m\n\u001b[0m\u001b[1;32m    497\u001b[0m         \u001b[0mfp\u001b[0m\u001b[0;34m.\u001b[0m\u001b[0mflush\u001b[0m\u001b[0;34m(\u001b[0m\u001b[0;34m)\u001b[0m\u001b[0;34m\u001b[0m\u001b[0;34m\u001b[0m\u001b[0m\n",
      "\u001b[0;31mAttributeError\u001b[0m: '_idat' object has no attribute 'fileno'",
      "\nDuring handling of the above exception, another exception occurred:\n",
      "\u001b[0;31mSystemError\u001b[0m                               Traceback (most recent call last)",
      "\u001b[0;32m/usr/local/lib/python3.6/dist-packages/IPython/core/formatters.py\u001b[0m in \u001b[0;36m__call__\u001b[0;34m(self, obj)\u001b[0m\n\u001b[1;32m    343\u001b[0m             \u001b[0mmethod\u001b[0m \u001b[0;34m=\u001b[0m \u001b[0mget_real_method\u001b[0m\u001b[0;34m(\u001b[0m\u001b[0mobj\u001b[0m\u001b[0;34m,\u001b[0m \u001b[0mself\u001b[0m\u001b[0;34m.\u001b[0m\u001b[0mprint_method\u001b[0m\u001b[0;34m)\u001b[0m\u001b[0;34m\u001b[0m\u001b[0;34m\u001b[0m\u001b[0m\n\u001b[1;32m    344\u001b[0m             \u001b[0;32mif\u001b[0m \u001b[0mmethod\u001b[0m \u001b[0;32mis\u001b[0m \u001b[0;32mnot\u001b[0m \u001b[0;32mNone\u001b[0m\u001b[0;34m:\u001b[0m\u001b[0;34m\u001b[0m\u001b[0;34m\u001b[0m\u001b[0m\n\u001b[0;32m--> 345\u001b[0;31m                 \u001b[0;32mreturn\u001b[0m \u001b[0mmethod\u001b[0m\u001b[0;34m(\u001b[0m\u001b[0;34m)\u001b[0m\u001b[0;34m\u001b[0m\u001b[0;34m\u001b[0m\u001b[0m\n\u001b[0m\u001b[1;32m    346\u001b[0m             \u001b[0;32mreturn\u001b[0m \u001b[0;32mNone\u001b[0m\u001b[0;34m\u001b[0m\u001b[0;34m\u001b[0m\u001b[0m\n\u001b[1;32m    347\u001b[0m         \u001b[0;32melse\u001b[0m\u001b[0;34m:\u001b[0m\u001b[0;34m\u001b[0m\u001b[0;34m\u001b[0m\u001b[0m\n",
      "\u001b[0;32m/usr/local/lib/python3.6/dist-packages/PIL/Image.py\u001b[0m in \u001b[0;36m_repr_png_\u001b[0;34m(self)\u001b[0m\n\u001b[1;32m    641\u001b[0m         \"\"\"\n\u001b[1;32m    642\u001b[0m         \u001b[0mb\u001b[0m \u001b[0;34m=\u001b[0m \u001b[0mio\u001b[0m\u001b[0;34m.\u001b[0m\u001b[0mBytesIO\u001b[0m\u001b[0;34m(\u001b[0m\u001b[0;34m)\u001b[0m\u001b[0;34m\u001b[0m\u001b[0;34m\u001b[0m\u001b[0m\n\u001b[0;32m--> 643\u001b[0;31m         \u001b[0mself\u001b[0m\u001b[0;34m.\u001b[0m\u001b[0msave\u001b[0m\u001b[0;34m(\u001b[0m\u001b[0mb\u001b[0m\u001b[0;34m,\u001b[0m \u001b[0;34m\"PNG\"\u001b[0m\u001b[0;34m)\u001b[0m\u001b[0;34m\u001b[0m\u001b[0;34m\u001b[0m\u001b[0m\n\u001b[0m\u001b[1;32m    644\u001b[0m         \u001b[0;32mreturn\u001b[0m \u001b[0mb\u001b[0m\u001b[0;34m.\u001b[0m\u001b[0mgetvalue\u001b[0m\u001b[0;34m(\u001b[0m\u001b[0;34m)\u001b[0m\u001b[0;34m\u001b[0m\u001b[0;34m\u001b[0m\u001b[0m\n\u001b[1;32m    645\u001b[0m \u001b[0;34m\u001b[0m\u001b[0m\n",
      "\u001b[0;32m/usr/local/lib/python3.6/dist-packages/PIL/Image.py\u001b[0m in \u001b[0;36msave\u001b[0;34m(self, fp, format, **params)\u001b[0m\n\u001b[1;32m   2100\u001b[0m \u001b[0;34m\u001b[0m\u001b[0m\n\u001b[1;32m   2101\u001b[0m         \u001b[0;32mtry\u001b[0m\u001b[0;34m:\u001b[0m\u001b[0;34m\u001b[0m\u001b[0;34m\u001b[0m\u001b[0m\n\u001b[0;32m-> 2102\u001b[0;31m             \u001b[0msave_handler\u001b[0m\u001b[0;34m(\u001b[0m\u001b[0mself\u001b[0m\u001b[0;34m,\u001b[0m \u001b[0mfp\u001b[0m\u001b[0;34m,\u001b[0m \u001b[0mfilename\u001b[0m\u001b[0;34m)\u001b[0m\u001b[0;34m\u001b[0m\u001b[0;34m\u001b[0m\u001b[0m\n\u001b[0m\u001b[1;32m   2103\u001b[0m         \u001b[0;32mfinally\u001b[0m\u001b[0;34m:\u001b[0m\u001b[0;34m\u001b[0m\u001b[0;34m\u001b[0m\u001b[0m\n\u001b[1;32m   2104\u001b[0m             \u001b[0;31m# do what we can to clean up\u001b[0m\u001b[0;34m\u001b[0m\u001b[0;34m\u001b[0m\u001b[0;34m\u001b[0m\u001b[0m\n",
      "\u001b[0;32m/usr/local/lib/python3.6/dist-packages/PIL/PngImagePlugin.py\u001b[0m in \u001b[0;36m_save\u001b[0;34m(im, fp, filename, chunk)\u001b[0m\n\u001b[1;32m    898\u001b[0m         \u001b[0mchunk\u001b[0m\u001b[0;34m(\u001b[0m\u001b[0mfp\u001b[0m\u001b[0;34m,\u001b[0m \u001b[0;34mb\"eXIf\"\u001b[0m\u001b[0;34m,\u001b[0m \u001b[0mexif\u001b[0m\u001b[0;34m)\u001b[0m\u001b[0;34m\u001b[0m\u001b[0;34m\u001b[0m\u001b[0m\n\u001b[1;32m    899\u001b[0m \u001b[0;34m\u001b[0m\u001b[0m\n\u001b[0;32m--> 900\u001b[0;31m     \u001b[0mImageFile\u001b[0m\u001b[0;34m.\u001b[0m\u001b[0m_save\u001b[0m\u001b[0;34m(\u001b[0m\u001b[0mim\u001b[0m\u001b[0;34m,\u001b[0m \u001b[0m_idat\u001b[0m\u001b[0;34m(\u001b[0m\u001b[0mfp\u001b[0m\u001b[0;34m,\u001b[0m \u001b[0mchunk\u001b[0m\u001b[0;34m)\u001b[0m\u001b[0;34m,\u001b[0m \u001b[0;34m[\u001b[0m\u001b[0;34m(\u001b[0m\u001b[0;34m\"zip\"\u001b[0m\u001b[0;34m,\u001b[0m \u001b[0;34m(\u001b[0m\u001b[0;36m0\u001b[0m\u001b[0;34m,\u001b[0m \u001b[0;36m0\u001b[0m\u001b[0;34m)\u001b[0m \u001b[0;34m+\u001b[0m \u001b[0mim\u001b[0m\u001b[0;34m.\u001b[0m\u001b[0msize\u001b[0m\u001b[0;34m,\u001b[0m \u001b[0;36m0\u001b[0m\u001b[0;34m,\u001b[0m \u001b[0mrawmode\u001b[0m\u001b[0;34m)\u001b[0m\u001b[0;34m]\u001b[0m\u001b[0;34m)\u001b[0m\u001b[0;34m\u001b[0m\u001b[0;34m\u001b[0m\u001b[0m\n\u001b[0m\u001b[1;32m    901\u001b[0m \u001b[0;34m\u001b[0m\u001b[0m\n\u001b[1;32m    902\u001b[0m     \u001b[0mchunk\u001b[0m\u001b[0;34m(\u001b[0m\u001b[0mfp\u001b[0m\u001b[0;34m,\u001b[0m \u001b[0;34mb\"IEND\"\u001b[0m\u001b[0;34m,\u001b[0m \u001b[0;34mb\"\"\u001b[0m\u001b[0;34m)\u001b[0m\u001b[0;34m\u001b[0m\u001b[0;34m\u001b[0m\u001b[0m\n",
      "\u001b[0;32m/usr/local/lib/python3.6/dist-packages/PIL/ImageFile.py\u001b[0m in \u001b[0;36m_save\u001b[0;34m(im, fp, tile, bufsize)\u001b[0m\n\u001b[1;32m    502\u001b[0m             \u001b[0;32mif\u001b[0m \u001b[0mo\u001b[0m \u001b[0;34m>\u001b[0m \u001b[0;36m0\u001b[0m\u001b[0;34m:\u001b[0m\u001b[0;34m\u001b[0m\u001b[0;34m\u001b[0m\u001b[0m\n\u001b[1;32m    503\u001b[0m                 \u001b[0mfp\u001b[0m\u001b[0;34m.\u001b[0m\u001b[0mseek\u001b[0m\u001b[0;34m(\u001b[0m\u001b[0mo\u001b[0m\u001b[0;34m)\u001b[0m\u001b[0;34m\u001b[0m\u001b[0;34m\u001b[0m\u001b[0m\n\u001b[0;32m--> 504\u001b[0;31m             \u001b[0me\u001b[0m\u001b[0;34m.\u001b[0m\u001b[0msetimage\u001b[0m\u001b[0;34m(\u001b[0m\u001b[0mim\u001b[0m\u001b[0;34m.\u001b[0m\u001b[0mim\u001b[0m\u001b[0;34m,\u001b[0m \u001b[0mb\u001b[0m\u001b[0;34m)\u001b[0m\u001b[0;34m\u001b[0m\u001b[0;34m\u001b[0m\u001b[0m\n\u001b[0m\u001b[1;32m    505\u001b[0m             \u001b[0;32mif\u001b[0m \u001b[0me\u001b[0m\u001b[0;34m.\u001b[0m\u001b[0mpushes_fd\u001b[0m\u001b[0;34m:\u001b[0m\u001b[0;34m\u001b[0m\u001b[0;34m\u001b[0m\u001b[0m\n\u001b[1;32m    506\u001b[0m                 \u001b[0me\u001b[0m\u001b[0;34m.\u001b[0m\u001b[0msetfd\u001b[0m\u001b[0;34m(\u001b[0m\u001b[0mfp\u001b[0m\u001b[0;34m)\u001b[0m\u001b[0;34m\u001b[0m\u001b[0;34m\u001b[0m\u001b[0m\n",
      "\u001b[0;31mSystemError\u001b[0m: tile cannot extend outside image"
     ]
    },
    {
     "data": {
      "text/plain": [
       "<PIL.Image.Image image mode=RGB size=0x0 at 0x7F0329318CC0>"
      ]
     },
     "execution_count": 22,
     "metadata": {},
     "output_type": "execute_result"
    }
   ],
   "source": []
  },
  {
   "cell_type": "code",
   "execution_count": 32,
   "metadata": {},
   "outputs": [
    {
     "data": {
      "text/plain": [
       "0"
      ]
     },
     "execution_count": 32,
     "metadata": {},
     "output_type": "execute_result"
    }
   ],
   "source": [
    "100 % 2 "
   ]
  },
  {
   "cell_type": "code",
   "execution_count": 28,
   "metadata": {},
   "outputs": [],
   "source": [
    "from typing import List, Dict"
   ]
  },
  {
   "cell_type": "code",
   "execution_count": 37,
   "metadata": {},
   "outputs": [
    {
     "name": "stdout",
     "output_type": "stream",
     "text": [
      "IMG_20200308_170810-Copy1.jpg  IMG_20200308_170810_06_06.png\r\n",
      "IMG_20200308_170810.jpg        IMG_20200308_170810_06_07.png\r\n",
      "IMG_20200308_170810_01_01.png  IMG_20200308_170810_06_08.png\r\n",
      "IMG_20200308_170810_01_02.png  IMG_20200308_170810_06_09.png\r\n",
      "IMG_20200308_170810_01_03.png  IMG_20200308_170810_06_10.png\r\n",
      "IMG_20200308_170810_01_04.png  IMG_20200308_170810_07_01.png\r\n",
      "IMG_20200308_170810_01_05.png  IMG_20200308_170810_07_02.png\r\n",
      "IMG_20200308_170810_01_06.png  IMG_20200308_170810_07_03.png\r\n",
      "IMG_20200308_170810_01_07.png  IMG_20200308_170810_07_04.png\r\n",
      "IMG_20200308_170810_01_08.png  IMG_20200308_170810_07_05.png\r\n",
      "IMG_20200308_170810_01_09.png  IMG_20200308_170810_07_06.png\r\n",
      "IMG_20200308_170810_01_10.png  IMG_20200308_170810_07_07.png\r\n",
      "IMG_20200308_170810_02_01.png  IMG_20200308_170810_07_08.png\r\n",
      "IMG_20200308_170810_02_02.png  IMG_20200308_170810_07_09.png\r\n",
      "IMG_20200308_170810_02_03.png  IMG_20200308_170810_07_10.png\r\n",
      "IMG_20200308_170810_02_04.png  IMG_20200308_170810_08_01.png\r\n",
      "IMG_20200308_170810_02_05.png  IMG_20200308_170810_08_02.png\r\n",
      "IMG_20200308_170810_02_06.png  IMG_20200308_170810_08_03.png\r\n",
      "IMG_20200308_170810_02_07.png  IMG_20200308_170810_08_04.png\r\n",
      "IMG_20200308_170810_02_08.png  IMG_20200308_170810_08_05.png\r\n",
      "IMG_20200308_170810_02_09.png  IMG_20200308_170810_08_06.png\r\n",
      "IMG_20200308_170810_02_10.png  IMG_20200308_170810_08_07.png\r\n",
      "IMG_20200308_170810_03_01.png  IMG_20200308_170810_08_08.png\r\n",
      "IMG_20200308_170810_03_02.png  IMG_20200308_170810_08_09.png\r\n",
      "IMG_20200308_170810_03_03.png  IMG_20200308_170810_08_10.png\r\n",
      "IMG_20200308_170810_03_04.png  IMG_20200308_170810_09_01.png\r\n",
      "IMG_20200308_170810_03_05.png  IMG_20200308_170810_09_02.png\r\n",
      "IMG_20200308_170810_03_06.png  IMG_20200308_170810_09_03.png\r\n",
      "IMG_20200308_170810_03_07.png  IMG_20200308_170810_09_04.png\r\n",
      "IMG_20200308_170810_03_08.png  IMG_20200308_170810_09_05.png\r\n",
      "IMG_20200308_170810_03_09.png  IMG_20200308_170810_09_06.png\r\n",
      "IMG_20200308_170810_03_10.png  IMG_20200308_170810_09_07.png\r\n",
      "IMG_20200308_170810_04_01.png  IMG_20200308_170810_09_08.png\r\n",
      "IMG_20200308_170810_04_02.png  IMG_20200308_170810_09_09.png\r\n",
      "IMG_20200308_170810_04_03.png  IMG_20200308_170810_09_10.png\r\n",
      "IMG_20200308_170810_04_04.png  IMG_20200308_170810_10_01.png\r\n",
      "IMG_20200308_170810_04_05.png  IMG_20200308_170810_10_02.png\r\n",
      "IMG_20200308_170810_04_06.png  IMG_20200308_170810_10_03.png\r\n",
      "IMG_20200308_170810_04_07.png  IMG_20200308_170810_10_04.png\r\n",
      "IMG_20200308_170810_04_08.png  IMG_20200308_170810_10_05.png\r\n",
      "IMG_20200308_170810_04_09.png  IMG_20200308_170810_10_06.png\r\n",
      "IMG_20200308_170810_04_10.png  IMG_20200308_170810_10_07.png\r\n",
      "IMG_20200308_170810_05_01.png  IMG_20200308_170810_10_08.png\r\n",
      "IMG_20200308_170810_05_02.png  IMG_20200308_170810_10_09.png\r\n",
      "IMG_20200308_170810_05_03.png  IMG_20200308_170810_10_10.png\r\n",
      "IMG_20200308_170810_05_04.png  IMG_20200308_170811.jpg\r\n",
      "IMG_20200308_170810_05_05.png  IMG_20200308_170819.jpg\r\n",
      "IMG_20200308_170810_05_06.png  IMG_20200308_170823.jpg\r\n",
      "IMG_20200308_170810_05_07.png  IMG_20200308_170824.jpg\r\n",
      "IMG_20200308_170810_05_08.png  IMG_20200308_170826.jpg\r\n",
      "IMG_20200308_170810_05_09.png  IMG_20200308_170830.jpg\r\n",
      "IMG_20200308_170810_05_10.png  IMG_20200308_170833.jpg\r\n",
      "IMG_20200308_170810_06_01.png  IMG_20200308_171359.jpg\r\n",
      "IMG_20200308_170810_06_02.png  IMG_20200308_171401.jpg\r\n",
      "IMG_20200308_170810_06_03.png  IMG_20200308_171404.jpg\r\n",
      "IMG_20200308_170810_06_04.png  IMG_20200308_171406.jpg\r\n",
      "IMG_20200308_170810_06_05.png\r\n"
     ]
    }
   ],
   "source": [
    "!ls /project/data/raw/farfalle"
   ]
  },
  {
   "cell_type": "code",
   "execution_count": 39,
   "metadata": {},
   "outputs": [
    {
     "name": "stdout",
     "output_type": "stream",
     "text": [
      "Object `iage_slicer` not found.\n"
     ]
    }
   ],
   "source": [
    "image_slicer"
   ]
  },
  {
   "cell_type": "code",
   "execution_count": 66,
   "metadata": {},
   "outputs": [],
   "source": [
    "raw_farfalle_list = [\n",
    "\"IMG_20200308_170810.jpg\",\n",
    "\"IMG_20200308_170811.jpg\",\n",
    "\"IMG_20200308_170819.jpg\",\n",
    "\"IMG_20200308_170823.jpg\",\n",
    "\"IMG_20200308_170824.jpg\",\n",
    "\"IMG_20200308_170826.jpg\",\n",
    "\"IMG_20200308_170830.jpg\",\n",
    "\"IMG_20200308_170833.jpg\",\n",
    "\"IMG_20200308_171359.jpg\",\n",
    "\"IMG_20200308_171401.jpg\",\n",
    "\"IMG_20200308_171404.jpg\",\n",
    "\"IMG_20200308_171406.jpg\"]"
   ]
  },
  {
   "cell_type": "code",
   "execution_count": null,
   "metadata": {},
   "outputs": [],
   "source": [
    "# >>> tiles = image_slicer.slice('cake.jpg', 4, save=False)\n",
    "# >>> image_slicer.save_tiles(tiles, directory='~/cake_slices',\\\n",
    "#                             prefix='slice', format='jpg')"
   ]
  },
  {
   "cell_type": "code",
   "execution_count": 74,
   "metadata": {},
   "outputs": [
    {
     "name": "stdout",
     "output_type": "stream",
     "text": [
      "170810\n",
      "170811\n",
      "170819\n",
      "170823\n",
      "170824\n",
      "170826\n",
      "170830\n",
      "170833\n",
      "171359\n",
      "171401\n",
      "171404\n",
      "171406\n"
     ]
    }
   ],
   "source": [
    "for im in raw_farfalle_list:\n",
    "    print(im[-10:-4])"
   ]
  },
  {
   "cell_type": "code",
   "execution_count": 77,
   "metadata": {},
   "outputs": [
    {
     "name": "stdout",
     "output_type": "stream",
     "text": [
      "Image-170810 Done!\n",
      "Image-170811 Done!\n",
      "Image-170819 Done!\n",
      "Image-170823 Done!\n",
      "Image-170824 Done!\n",
      "Image-170826 Done!\n",
      "Image-170830 Done!\n",
      "Image-170833 Done!\n",
      "Image-171359 Done!\n",
      "Image-171401 Done!\n",
      "Image-171404 Done!\n",
      "Image-171406 Done!\n"
     ]
    }
   ],
   "source": [
    "for im in raw_farfalle_list:\n",
    "    slice_raw_images(raw_image=im, base_path=\"/project/data/raw/farfalle\")"
   ]
  },
  {
   "cell_type": "code",
   "execution_count": 76,
   "metadata": {},
   "outputs": [],
   "source": [
    "def slice_raw_images(raw_image:str, base_path:str, num_slices:int = 100):\n",
    "    \n",
    "    # num_slice must be even\n",
    "    assert num_slices % 2 == 0 \n",
    "    \n",
    "\n",
    "    tiles = image_slicer.slice(f\"{base_path}/{raw_image}\", num_slices, save=False)\n",
    "    image_slicer.save_tiles(tiles,\n",
    "                            directory=f\"{base_path}/sliced_images\",\n",
    "                            prefix=f'{raw_image[-10:-4]}_slice')# , format='jpg')\n",
    "    \n",
    "    \n",
    "    print(f\"Image-{raw_image[-10:-4]} Done!\")"
   ]
  },
  {
   "cell_type": "markdown",
   "metadata": {},
   "source": [
    "# Left off here - working on getting the slices to get saved out in different directory"
   ]
  },
  {
   "cell_type": "code",
   "execution_count": 57,
   "metadata": {},
   "outputs": [],
   "source": [
    "image_slicer.save_tiles"
   ]
  },
  {
   "cell_type": "code",
   "execution_count": 65,
   "metadata": {},
   "outputs": [
    {
     "name": "stdout",
     "output_type": "stream",
     "text": [
      "Done!\n"
     ]
    }
   ],
   "source": [
    "slice_raw_images(raw_image_list=raw_farfalle_list, base_path=\"/project/data/raw/farfalle\", num_slices=100)"
   ]
  },
  {
   "cell_type": "code",
   "execution_count": null,
   "metadata": {},
   "outputs": [],
   "source": [
    "crop(path=\"/project/data/clipped/farfalle\", )\n",
    "   "
   ]
  },
  {
   "cell_type": "code",
   "execution_count": 27,
   "metadata": {},
   "outputs": [],
   "source": [
    "image_slicer.slice?"
   ]
  },
  {
   "cell_type": "code",
   "execution_count": 20,
   "metadata": {},
   "outputs": [
    {
     "data": {
      "text/plain": [
       "(<Tile #1 - IMG_20200308_170810_01_01.png>,\n",
       " <Tile #2 - IMG_20200308_170810_01_02.png>,\n",
       " <Tile #3 - IMG_20200308_170810_01_03.png>,\n",
       " <Tile #4 - IMG_20200308_170810_01_04.png>,\n",
       " <Tile #5 - IMG_20200308_170810_01_05.png>,\n",
       " <Tile #6 - IMG_20200308_170810_01_06.png>,\n",
       " <Tile #7 - IMG_20200308_170810_01_07.png>,\n",
       " <Tile #8 - IMG_20200308_170810_01_08.png>,\n",
       " <Tile #9 - IMG_20200308_170810_01_09.png>,\n",
       " <Tile #10 - IMG_20200308_170810_01_10.png>,\n",
       " <Tile #11 - IMG_20200308_170810_02_01.png>,\n",
       " <Tile #12 - IMG_20200308_170810_02_02.png>,\n",
       " <Tile #13 - IMG_20200308_170810_02_03.png>,\n",
       " <Tile #14 - IMG_20200308_170810_02_04.png>,\n",
       " <Tile #15 - IMG_20200308_170810_02_05.png>,\n",
       " <Tile #16 - IMG_20200308_170810_02_06.png>,\n",
       " <Tile #17 - IMG_20200308_170810_02_07.png>,\n",
       " <Tile #18 - IMG_20200308_170810_02_08.png>,\n",
       " <Tile #19 - IMG_20200308_170810_02_09.png>,\n",
       " <Tile #20 - IMG_20200308_170810_02_10.png>,\n",
       " <Tile #21 - IMG_20200308_170810_03_01.png>,\n",
       " <Tile #22 - IMG_20200308_170810_03_02.png>,\n",
       " <Tile #23 - IMG_20200308_170810_03_03.png>,\n",
       " <Tile #24 - IMG_20200308_170810_03_04.png>,\n",
       " <Tile #25 - IMG_20200308_170810_03_05.png>,\n",
       " <Tile #26 - IMG_20200308_170810_03_06.png>,\n",
       " <Tile #27 - IMG_20200308_170810_03_07.png>,\n",
       " <Tile #28 - IMG_20200308_170810_03_08.png>,\n",
       " <Tile #29 - IMG_20200308_170810_03_09.png>,\n",
       " <Tile #30 - IMG_20200308_170810_03_10.png>,\n",
       " <Tile #31 - IMG_20200308_170810_04_01.png>,\n",
       " <Tile #32 - IMG_20200308_170810_04_02.png>,\n",
       " <Tile #33 - IMG_20200308_170810_04_03.png>,\n",
       " <Tile #34 - IMG_20200308_170810_04_04.png>,\n",
       " <Tile #35 - IMG_20200308_170810_04_05.png>,\n",
       " <Tile #36 - IMG_20200308_170810_04_06.png>,\n",
       " <Tile #37 - IMG_20200308_170810_04_07.png>,\n",
       " <Tile #38 - IMG_20200308_170810_04_08.png>,\n",
       " <Tile #39 - IMG_20200308_170810_04_09.png>,\n",
       " <Tile #40 - IMG_20200308_170810_04_10.png>,\n",
       " <Tile #41 - IMG_20200308_170810_05_01.png>,\n",
       " <Tile #42 - IMG_20200308_170810_05_02.png>,\n",
       " <Tile #43 - IMG_20200308_170810_05_03.png>,\n",
       " <Tile #44 - IMG_20200308_170810_05_04.png>,\n",
       " <Tile #45 - IMG_20200308_170810_05_05.png>,\n",
       " <Tile #46 - IMG_20200308_170810_05_06.png>,\n",
       " <Tile #47 - IMG_20200308_170810_05_07.png>,\n",
       " <Tile #48 - IMG_20200308_170810_05_08.png>,\n",
       " <Tile #49 - IMG_20200308_170810_05_09.png>,\n",
       " <Tile #50 - IMG_20200308_170810_05_10.png>,\n",
       " <Tile #51 - IMG_20200308_170810_06_01.png>,\n",
       " <Tile #52 - IMG_20200308_170810_06_02.png>,\n",
       " <Tile #53 - IMG_20200308_170810_06_03.png>,\n",
       " <Tile #54 - IMG_20200308_170810_06_04.png>,\n",
       " <Tile #55 - IMG_20200308_170810_06_05.png>,\n",
       " <Tile #56 - IMG_20200308_170810_06_06.png>,\n",
       " <Tile #57 - IMG_20200308_170810_06_07.png>,\n",
       " <Tile #58 - IMG_20200308_170810_06_08.png>,\n",
       " <Tile #59 - IMG_20200308_170810_06_09.png>,\n",
       " <Tile #60 - IMG_20200308_170810_06_10.png>,\n",
       " <Tile #61 - IMG_20200308_170810_07_01.png>,\n",
       " <Tile #62 - IMG_20200308_170810_07_02.png>,\n",
       " <Tile #63 - IMG_20200308_170810_07_03.png>,\n",
       " <Tile #64 - IMG_20200308_170810_07_04.png>,\n",
       " <Tile #65 - IMG_20200308_170810_07_05.png>,\n",
       " <Tile #66 - IMG_20200308_170810_07_06.png>,\n",
       " <Tile #67 - IMG_20200308_170810_07_07.png>,\n",
       " <Tile #68 - IMG_20200308_170810_07_08.png>,\n",
       " <Tile #69 - IMG_20200308_170810_07_09.png>,\n",
       " <Tile #70 - IMG_20200308_170810_07_10.png>,\n",
       " <Tile #71 - IMG_20200308_170810_08_01.png>,\n",
       " <Tile #72 - IMG_20200308_170810_08_02.png>,\n",
       " <Tile #73 - IMG_20200308_170810_08_03.png>,\n",
       " <Tile #74 - IMG_20200308_170810_08_04.png>,\n",
       " <Tile #75 - IMG_20200308_170810_08_05.png>,\n",
       " <Tile #76 - IMG_20200308_170810_08_06.png>,\n",
       " <Tile #77 - IMG_20200308_170810_08_07.png>,\n",
       " <Tile #78 - IMG_20200308_170810_08_08.png>,\n",
       " <Tile #79 - IMG_20200308_170810_08_09.png>,\n",
       " <Tile #80 - IMG_20200308_170810_08_10.png>,\n",
       " <Tile #81 - IMG_20200308_170810_09_01.png>,\n",
       " <Tile #82 - IMG_20200308_170810_09_02.png>,\n",
       " <Tile #83 - IMG_20200308_170810_09_03.png>,\n",
       " <Tile #84 - IMG_20200308_170810_09_04.png>,\n",
       " <Tile #85 - IMG_20200308_170810_09_05.png>,\n",
       " <Tile #86 - IMG_20200308_170810_09_06.png>,\n",
       " <Tile #87 - IMG_20200308_170810_09_07.png>,\n",
       " <Tile #88 - IMG_20200308_170810_09_08.png>,\n",
       " <Tile #89 - IMG_20200308_170810_09_09.png>,\n",
       " <Tile #90 - IMG_20200308_170810_09_10.png>,\n",
       " <Tile #91 - IMG_20200308_170810_10_01.png>,\n",
       " <Tile #92 - IMG_20200308_170810_10_02.png>,\n",
       " <Tile #93 - IMG_20200308_170810_10_03.png>,\n",
       " <Tile #94 - IMG_20200308_170810_10_04.png>,\n",
       " <Tile #95 - IMG_20200308_170810_10_05.png>,\n",
       " <Tile #96 - IMG_20200308_170810_10_06.png>,\n",
       " <Tile #97 - IMG_20200308_170810_10_07.png>,\n",
       " <Tile #98 - IMG_20200308_170810_10_08.png>,\n",
       " <Tile #99 - IMG_20200308_170810_10_09.png>,\n",
       " <Tile #100 - IMG_20200308_170810_10_10.png>)"
      ]
     },
     "execution_count": 20,
     "metadata": {},
     "output_type": "execute_result"
    }
   ],
   "source": [
    "import image_slicer\n",
    "image_slicer.slice('/project/data/raw/farfalle/IMG_20200308_170810.jpg', 100)"
   ]
  },
  {
   "cell_type": "code",
   "execution_count": null,
   "metadata": {},
   "outputs": [],
   "source": []
  }
 ],
 "metadata": {
  "kernelspec": {
   "display_name": "Python 3",
   "language": "python",
   "name": "python3"
  },
  "language_info": {
   "codemirror_mode": {
    "name": "ipython",
    "version": 3
   },
   "file_extension": ".py",
   "mimetype": "text/x-python",
   "name": "python",
   "nbconvert_exporter": "python",
   "pygments_lexer": "ipython3",
   "version": "3.6.9"
  }
 },
 "nbformat": 4,
 "nbformat_minor": 4
}
